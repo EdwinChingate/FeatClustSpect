{
 "cells": [
  {
   "cell_type": "code",
   "execution_count": 1,
   "id": "1e68cedb",
   "metadata": {
    "ExecuteTime": {
     "end_time": "2023-09-12T15:01:36.970920Z",
     "start_time": "2023-09-12T15:01:35.264172Z"
    }
   },
   "outputs": [],
   "source": [
    "import sys\n",
    "import os\n",
    "home=os.getcwd()\n",
    "sys.path.append(home+'/Functions')\n",
    "from ChargeDataSet import *\n",
    "from ShowDF import *\n",
    "import pandas as pd\n",
    "import matplotlib.pyplot as plt"
   ]
  },
  {
   "cell_type": "code",
   "execution_count": 2,
   "id": "1f405f87",
   "metadata": {
    "ExecuteTime": {
     "end_time": "2023-09-12T15:01:36.976531Z",
     "start_time": "2023-09-12T15:01:36.973322Z"
    }
   },
   "outputs": [],
   "source": [
    "DataSetName='12111.mzML'"
   ]
  },
  {
   "cell_type": "code",
   "execution_count": 3,
   "id": "f67ece12",
   "metadata": {
    "ExecuteTime": {
     "end_time": "2023-09-12T15:01:40.114432Z",
     "start_time": "2023-09-12T15:01:36.979318Z"
    }
   },
   "outputs": [],
   "source": [
    "DataSet=ChargeDataSet(DataSetName)"
   ]
  },
  {
   "cell_type": "code",
   "execution_count": 79,
   "id": "eb54644f",
   "metadata": {
    "ExecuteTime": {
     "end_time": "2023-09-11T20:36:58.639917Z",
     "start_time": "2023-09-11T20:36:58.634632Z"
    }
   },
   "outputs": [],
   "source": []
  },
  {
   "cell_type": "code",
   "execution_count": null,
   "id": "d3ca85ae",
   "metadata": {},
   "outputs": [],
   "source": [
    "I can predict the ID with the RT, I just need to make a quick correlation at the beggining "
   ]
  },
  {
   "cell_type": "code",
   "execution_count": 22,
   "id": "6deca11d",
   "metadata": {
    "ExecuteTime": {
     "end_time": "2023-08-29T17:20:49.335680Z",
     "start_time": "2023-08-29T17:20:49.310954Z"
    }
   },
   "outputs": [],
   "source": [
    "IDvec=[]\n",
    "RTvec=[]\n",
    "c=0\n",
    "for Spec in DataSet:\n",
    "    #print(x)\n",
    "    #Spec=DataSet[int(x)]\n",
    "    if Spec.getMSLevel()==1:\n",
    "        IDvec.append(c)        \n",
    "        RTvec.append(Spec.getRT())\n",
    "        c+=1\n",
    "#plt.plot(RTvec,IDvec) \n",
    "#print(IDvec)"
   ]
  },
  {
   "cell_type": "code",
   "execution_count": 5,
   "id": "f967350d",
   "metadata": {
    "ExecuteTime": {
     "end_time": "2023-09-11T19:10:55.869208Z",
     "start_time": "2023-09-11T19:10:55.866450Z"
    }
   },
   "outputs": [],
   "source": [
    "FirstID=1099\n",
    "LastID=1139\n",
    "#My next step is to melt a certain number of spectrum to make the clustering easier. A small error on the normalization will be included, as the intensity on each spectrum is a function of the concentration as well"
   ]
  },
  {
   "cell_type": "code",
   "execution_count": 68,
   "id": "9ea574fe",
   "metadata": {
    "ExecuteTime": {
     "end_time": "2023-09-11T20:32:17.836145Z",
     "start_time": "2023-09-11T20:32:17.818307Z"
    }
   },
   "outputs": [],
   "source": [
    "IDvec=MS1IDs(DataSet)"
   ]
  },
  {
   "cell_type": "code",
   "execution_count": 69,
   "id": "56591b9e",
   "metadata": {
    "ExecuteTime": {
     "end_time": "2023-09-11T20:32:18.462276Z",
     "start_time": "2023-09-11T20:32:18.457707Z"
    }
   },
   "outputs": [],
   "source": [
    "Spectrum=JoinSpectra(IDvec=IDvec,DataSet=DataSet,FirstID=FirstID,LastID=LastID)"
   ]
  },
  {
   "cell_type": "code",
   "execution_count": 74,
   "id": "307962c0",
   "metadata": {
    "ExecuteTime": {
     "end_time": "2023-09-11T20:32:28.279433Z",
     "start_time": "2023-09-11T20:32:28.276134Z"
    },
    "scrolled": true
   },
   "outputs": [],
   "source": [
    "CentroidsValley(spectra=Spectrum.copy(),Centroids=c.copy())"
   ]
  },
  {
   "cell_type": "code",
   "execution_count": 75,
   "id": "b966bb5c",
   "metadata": {
    "ExecuteTime": {
     "end_time": "2023-09-11T20:32:28.970800Z",
     "start_time": "2023-09-11T20:32:28.966357Z"
    }
   },
   "outputs": [],
   "source": [
    "Centroids=SpectraCentroids(spectra=Spectrum.copy(),SafetyFactor=4)\n",
    "allFeatures=ALLFeatures(Centroids,allFeatures=[])"
   ]
  },
  {
   "cell_type": "code",
   "execution_count": 81,
   "id": "83721993",
   "metadata": {
    "ExecuteTime": {
     "end_time": "2023-09-11T20:39:11.140476Z",
     "start_time": "2023-09-11T20:39:11.136420Z"
    }
   },
   "outputs": [],
   "source": [
    "from scipy.stats import t\n",
    "import numpy as np\n",
    "def FeaturesStats(Signals,alpha=0.01): #Isotopomer refers to either the most abundant isotopomer, or the one with 18O\n",
    "    SumIntens=sum(Signals[:,1])\n",
    "    RelativeInt=Signals[:,1]/SumIntens\n",
    "    AverageMZ=sum(Signals[:,0]*RelativeInt)\n",
    "    l=len(Signals[:,1])    \n",
    "    VarianMZ=sum(RelativeInt*(Signals[:,0]-AverageMZ)**2)*l/(l-1)  \n",
    "    StdMZ=np.sqrt(VarianMZ)\n",
    "    featuresStats=[AverageMZ,StdMZ]    \n",
    "    return featuresStats"
   ]
  },
  {
   "cell_type": "code",
   "execution_count": 76,
   "id": "819dc6ce",
   "metadata": {
    "ExecuteTime": {
     "end_time": "2023-09-11T20:32:30.366035Z",
     "start_time": "2023-09-11T20:32:30.362272Z"
    }
   },
   "outputs": [],
   "source": [
    "FeaturesData(Centroids=Centroids,spectra=Spectrum,allFeatures=allFeatures)"
   ]
  },
  {
   "cell_type": "code",
   "execution_count": null,
   "id": "7ae1cbc7",
   "metadata": {},
   "outputs": [],
   "source": [
    "def UpdateBorders(Centroids,allFeatures):\n",
    "    "
   ]
  }
 ],
 "metadata": {
  "kernelspec": {
   "display_name": "Python 3 (ipykernel)",
   "language": "python",
   "name": "python3"
  },
  "language_info": {
   "codemirror_mode": {
    "name": "ipython",
    "version": 3
   },
   "file_extension": ".py",
   "mimetype": "text/x-python",
   "name": "python",
   "nbconvert_exporter": "python",
   "pygments_lexer": "ipython3",
   "version": "3.7.13"
  }
 },
 "nbformat": 4,
 "nbformat_minor": 5
}
